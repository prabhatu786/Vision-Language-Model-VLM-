{
  "cells": [
    {
      "cell_type": "markdown",
      "metadata": {
        "id": "view-in-github",
        "colab_type": "text"
      },
      "source": [
        "<a href=\"https://colab.research.google.com/github/prabhatu786/Vision-Language-Model-VLM-/blob/main/Product_Categories_Prediction.ipynb\" target=\"_parent\"><img src=\"https://colab.research.google.com/assets/colab-badge.svg\" alt=\"Open In Colab\"/></a>"
      ]
    },
    {
      "cell_type": "code",
      "execution_count": 70,
      "metadata": {
        "id": "nVeSnZ1OpvyP"
      },
      "outputs": [],
      "source": [
        "import torch\n",
        "from PIL import Image\n",
        "from transformers import CLIPProcessor, CLIPModel\n",
        "import pandas as pd\n",
        "import numpy as np\n",
        "\n"
      ]
    },
    {
      "cell_type": "code",
      "source": [
        "\n",
        "\n",
        "# Sample DataFrame\n",
        "data = pd.read_csv('/content/product_category.csv')\n",
        "\n",
        "df = pd.DataFrame(data)\n",
        "\n",
        "# Get unique categories from the 'product_category' column\n",
        "unique_categories = df['Product_category'].unique()\n",
        "\n",
        "# Convert the unique categories to a list\n",
        "unique_categories_list = unique_categories.tolist()\n",
        "\n"
      ],
      "metadata": {
        "id": "gdyNd6dp3yaH"
      },
      "execution_count": 71,
      "outputs": []
    },
    {
      "cell_type": "code",
      "execution_count": 72,
      "metadata": {
        "colab": {
          "base_uri": "https://localhost:8080/"
        },
        "id": "gTu0uV7xptOc",
        "outputId": "7cb05056-3aee-4456-ed6e-c87189b48c60"
      },
      "outputs": [
        {
          "output_type": "stream",
          "name": "stdout",
          "text": [
            "Requirement already satisfied: torch in /usr/local/lib/python3.10/dist-packages (2.4.1+cu121)\n",
            "Requirement already satisfied: torchvision in /usr/local/lib/python3.10/dist-packages (0.19.1+cu121)\n",
            "Requirement already satisfied: transformers in /usr/local/lib/python3.10/dist-packages (4.44.2)\n",
            "Requirement already satisfied: filelock in /usr/local/lib/python3.10/dist-packages (from torch) (3.16.1)\n",
            "Requirement already satisfied: typing-extensions>=4.8.0 in /usr/local/lib/python3.10/dist-packages (from torch) (4.12.2)\n",
            "Requirement already satisfied: sympy in /usr/local/lib/python3.10/dist-packages (from torch) (1.13.3)\n",
            "Requirement already satisfied: networkx in /usr/local/lib/python3.10/dist-packages (from torch) (3.3)\n",
            "Requirement already satisfied: jinja2 in /usr/local/lib/python3.10/dist-packages (from torch) (3.1.4)\n",
            "Requirement already satisfied: fsspec in /usr/local/lib/python3.10/dist-packages (from torch) (2024.6.1)\n",
            "Requirement already satisfied: numpy in /usr/local/lib/python3.10/dist-packages (from torchvision) (1.26.4)\n",
            "Requirement already satisfied: pillow!=8.3.*,>=5.3.0 in /usr/local/lib/python3.10/dist-packages (from torchvision) (10.4.0)\n",
            "Requirement already satisfied: huggingface-hub<1.0,>=0.23.2 in /usr/local/lib/python3.10/dist-packages (from transformers) (0.24.7)\n",
            "Requirement already satisfied: packaging>=20.0 in /usr/local/lib/python3.10/dist-packages (from transformers) (24.1)\n",
            "Requirement already satisfied: pyyaml>=5.1 in /usr/local/lib/python3.10/dist-packages (from transformers) (6.0.2)\n",
            "Requirement already satisfied: regex!=2019.12.17 in /usr/local/lib/python3.10/dist-packages (from transformers) (2024.9.11)\n",
            "Requirement already satisfied: requests in /usr/local/lib/python3.10/dist-packages (from transformers) (2.32.3)\n",
            "Requirement already satisfied: safetensors>=0.4.1 in /usr/local/lib/python3.10/dist-packages (from transformers) (0.4.5)\n",
            "Requirement already satisfied: tokenizers<0.20,>=0.19 in /usr/local/lib/python3.10/dist-packages (from transformers) (0.19.1)\n",
            "Requirement already satisfied: tqdm>=4.27 in /usr/local/lib/python3.10/dist-packages (from transformers) (4.66.5)\n",
            "Requirement already satisfied: MarkupSafe>=2.0 in /usr/local/lib/python3.10/dist-packages (from jinja2->torch) (2.1.5)\n",
            "Requirement already satisfied: charset-normalizer<4,>=2 in /usr/local/lib/python3.10/dist-packages (from requests->transformers) (3.3.2)\n",
            "Requirement already satisfied: idna<4,>=2.5 in /usr/local/lib/python3.10/dist-packages (from requests->transformers) (3.10)\n",
            "Requirement already satisfied: urllib3<3,>=1.21.1 in /usr/local/lib/python3.10/dist-packages (from requests->transformers) (2.2.3)\n",
            "Requirement already satisfied: certifi>=2017.4.17 in /usr/local/lib/python3.10/dist-packages (from requests->transformers) (2024.8.30)\n",
            "Requirement already satisfied: mpmath<1.4,>=1.1.0 in /usr/local/lib/python3.10/dist-packages (from sympy->torch) (1.3.0)\n"
          ]
        }
      ],
      "source": [
        "!pip install torch torchvision transformers\n"
      ]
    },
    {
      "cell_type": "code",
      "source": [
        "import torch\n",
        "from PIL import Image\n",
        "from transformers import CLIPProcessor, CLIPModel\n",
        "\n",
        "# Load CLIP model and processor\n",
        "model = CLIPModel.from_pretrained(\"openai/clip-vit-base-patch16\")\n",
        "processor = CLIPProcessor.from_pretrained(\"openai/clip-vit-base-patch16\")\n",
        "\n",
        "def predict_category(image_url, categories):\n",
        "    # Load and preprocess image\n",
        "    image = Image.open(image_url)\n",
        "\n",
        "    # Process inputs\n",
        "    inputs = processor(text=categories, images=image, return_tensors=\"pt\", padding=True)\n",
        "\n",
        "    # Forward pass\n",
        "    with torch.no_grad():\n",
        "        outputs = model(**inputs)\n",
        "        logits_per_image = outputs.logits_per_image  # Correct output access\n",
        "\n",
        "    # Calculate probabilities\n",
        "    probs = logits_per_image.softmax(dim=1).cpu().numpy()\n",
        "\n",
        "    # Get the category with the highest probability\n",
        "    predicted_category = categories[probs.argmax()]\n",
        "\n",
        "    return predicted_category\n",
        "\n",
        "# Sample usage\n",
        "categories =unique_categories_list# [\"Modular Kitchen\", \"Dining Table\", \"Sofa\", \"Chair\", 'Furniture', 'Water Suppliers']\n",
        "image_url = \"/content/cooker.jpg\"  # Local path or URL\n",
        "category = predict_category(image_url, categories)\n",
        "print(f'The predicted category is: {category}')\n"
      ],
      "metadata": {
        "colab": {
          "base_uri": "https://localhost:8080/"
        },
        "id": "KqoXO9hG8oxi",
        "outputId": "c698b806-0c81-4cc8-fb6d-77ebfe7139fc"
      },
      "execution_count": 76,
      "outputs": [
        {
          "output_type": "stream",
          "name": "stdout",
          "text": [
            "The predicted category is: Cast Iron Cookware\n"
          ]
        }
      ]
    },
    {
      "cell_type": "markdown",
      "source": [
        "import torch\n",
        "from PIL import Image\n",
        "from transformers import CLIPProcessor, CLIPModel\n",
        "\n",
        "# Load CLIP model and processor\n",
        "model = CLIPModel.from_pretrained(\"openai/clip-vit-base-patch16\")\n",
        "processor = CLIPProcessor.from_pretrained(\"openai/clip-vit-base-patch16\")\n",
        "\n",
        "def predict_category(image_url, categories):\n",
        "    # Load and preprocess image\n",
        "    image = Image.open(image_url)\n",
        "\n",
        "    # Process inputs\n",
        "    inputs = processor(text=categories, images=image, return_tensors=\"pt\", padding=True)\n",
        "\n",
        "    # Forward pass\n",
        "    with torch.no_grad():\n",
        "        # Capture all outputs from the model\n",
        "        outputs = model(**inputs)\n",
        "        # Assuming logits_per_image is the first element in the outputs tuple\n",
        "        logits_per_image = outputs[0]  \n",
        "    \n",
        "    # Calculate probabilities\n",
        "    probs = logits_per_image.softmax(dim=1).numpy()\n",
        "    #print(probs)\n",
        "\n",
        "    # Get the category with the highest probability\n",
        "    predicted_category = categories[probs.argmax()]\n",
        "\n",
        "    return predicted_category\n",
        "\n",
        "# Sample usage\n",
        "# Update the categories list with unique categories\n",
        "categories = unique_categories_list\n",
        "#categories = [\"Modular Kitchen\", \"Dining Table\", \"Sofa\", \"Chair\"]\n",
        "image = load_image_from_url(image_url)\n",
        "\n",
        "#image_url = \"/content/iphone.jpeg\"  # Local path or URL\n",
        "category = predict_category(image, categories)\n",
        "print(f'The predicted category is: {category}')"
      ],
      "metadata": {
        "id": "F8BvIfzw3ynu"
      }
    },
    {
      "cell_type": "code",
      "source": [
        "import requests\n",
        "from io import BytesIO\n",
        "\n",
        "def load_image_from_url(url):\n",
        "    response = requests.get('https://image1.jdomni.in/product/24052022/B6/0B/DC/A51C9CB97F8311FD9D8813A76A_1653387466403.jpg')\n",
        "    return Image.open(BytesIO(response.content))\n"
      ],
      "metadata": {
        "id": "WhGUygjG7BFK"
      },
      "execution_count": null,
      "outputs": []
    },
    {
      "cell_type": "code",
      "source": [
        "import torch\n",
        "from PIL import Image\n",
        "from transformers import CLIPProcessor, CLIPModel\n",
        "\n",
        "# Load CLIP model and processor\n",
        "model = CLIPModel.from_pretrained(\"openai/clip-vit-base-patch16\")\n",
        "processor = CLIPProcessor.from_pretrained(\"openai/clip-vit-base-patch16\")\n",
        "\n",
        "def predict_category(image, categories): # Changed 'image_url' to 'image'\n",
        "    # Removed Image.open as the image is already loaded\n",
        "    # image = Image.open(image_url)\n",
        "\n",
        "    # Process inputs\n",
        "    inputs = processor(text=categories, images=image, return_tensors=\"pt\", padding=True)\n",
        "\n",
        "    # Forward pass\n",
        "    with torch.no_grad():\n",
        "        # Capture all outputs from the model\n",
        "        outputs = model(**inputs)\n",
        "        # Assuming logits_per_image is the first element in the outputs tuple\n",
        "        #logits_per_image = outputs[0]  # Assuming logits_per_image is the first element in the outputs tuple - Changed to access the correct output\n",
        "        logits_per_image = outputs.logits_per_image # Access logits_per_image from the output\n",
        "\n",
        "    # Calculate probabilities\n",
        "    probs = logits_per_image.softmax(dim=1).cpu().numpy() # Added .cpu() to move the tensor to CPU before converting to numpy\n",
        "    #print(probs)\n",
        "\n",
        "    # Get the category with the highest probability\n",
        "    predicted_category = categories[probs.argmax()]\n",
        "\n",
        "    return predicted_category\n",
        "\n",
        "# Sample usage\n",
        "# Update the categories list with unique categories\n",
        "categories = unique_categories_list\n",
        "#categories = [\"Modular Kitchen\", \"Dining Table\", \"Sofa\", \"Chair\"]\n",
        "image = load_image_from_url('https://image1.jdomni.in/product/24052022/C7/AE/10/99EB6D380FE8B22D2740822768_1653395188827.jpg')\n",
        "\n",
        "#image_url = \"/content/iphone.jpeg\"  # Local path or URL\n",
        "category = predict_category(image, categories) # Passing the image object directly\n",
        "print(f'The predicted category is: {category}')"
      ],
      "metadata": {
        "colab": {
          "base_uri": "https://localhost:8080/"
        },
        "id": "Y0b0kzis9-GG",
        "outputId": "33b5d098-f777-4d3d-a158-be69d76f2842"
      },
      "execution_count": 80,
      "outputs": [
        {
          "output_type": "stream",
          "name": "stdout",
          "text": [
            "The predicted category is: Calf Machine\n"
          ]
        }
      ]
    }
  ],
  "metadata": {
    "colab": {
      "provenance": [],
      "authorship_tag": "ABX9TyOVJmJYZSEOqzUjDJS2UX2p",
      "include_colab_link": true
    },
    "kernelspec": {
      "display_name": "Python 3",
      "name": "python3"
    },
    "language_info": {
      "name": "python"
    }
  },
  "nbformat": 4,
  "nbformat_minor": 0
}